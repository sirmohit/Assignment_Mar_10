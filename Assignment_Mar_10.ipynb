{
 "cells": [
  {
   "cell_type": "markdown",
   "id": "48092e41",
   "metadata": {},
   "source": [
    "Q1: What is Estimation Statistics? Explain point estimate and interval estimate."
   ]
  },
  {
   "cell_type": "markdown",
   "id": "1fbcda8d",
   "metadata": {},
   "source": [
    "Ans:\n",
    "    \n",
    "    Estimation Statistics:\n",
    "    Estimation statistics is a branch of statistics that deals with the process of estimating population parameters based\n",
    "    on sample data. The primary goal of estimation is to provide an approximation of an unknown population parameter using\n",
    "    information obtained from a sample. There are two main types of estimates in statistics: point estimates and\n",
    "    interval estimates.\n",
    "\n",
    "    Point Estimate:\n",
    "\n",
    "    A point estimate is a single value that serves as the best guess or approximation of a population parameter. It is\n",
    "    derived from sample data and provides a specific numerical value as an estimate of the population parameter. \n",
    "    For instance, the sample mean (ˉx ) is a point estimate of the population mean (μ), and the sample proportion \n",
    "    (p̂) is a point estimate of the population proportion (p).\n",
    "    \n",
    "    Interval Estimate:\n",
    "\n",
    "    An interval estimate provides a range of values that is likely to contain the unknown population parameter. Unlike point\n",
    "    estimates, interval estimates offer a range or interval of values, indicating the uncertainty associated with the\n",
    "    estimate. The interval is constructed based on the sample data and a specified level of confidence. Commonly used \n",
    "    intervals include confidence intervals for population means, proportions, and variances.\n",
    "    For example, a 95% confidence interval for the population mean (μ) provides a range of values within which we are\n",
    "    95% confident that the true population mean lies. This interval gives a sense of the precision and uncertainty \n",
    "    associated with the estimate.\n"
   ]
  },
  {
   "cell_type": "markdown",
   "id": "64de6884",
   "metadata": {},
   "source": [
    "Q2. Write a Python function to estimate the population mean using a sample mean and standard\n",
    "deviation."
   ]
  },
  {
   "cell_type": "code",
   "execution_count": 1,
   "id": "c324499d",
   "metadata": {},
   "outputs": [
    {
     "name": "stdout",
     "output_type": "stream",
     "text": [
      "Estimated population mean lies between 95.8422121266231 and 104.1577878733769 with a 95.0% confidence level.\n"
     ]
    }
   ],
   "source": [
    "import math\n",
    "\n",
    "def estimate_population_mean(sample_mean, sample_std_dev, sample_size, confidence_level=0.95):\n",
    "    \"\"\"\n",
    "    Estimate the population mean using the sample mean, standard deviation, and sample size.\n",
    "    \n",
    "    Parameters:\n",
    "    - sample_mean: float, the sample mean.\n",
    "    - sample_std_dev: float, the sample standard deviation.\n",
    "    - sample_size: int, the sample size.\n",
    "    - confidence_level: float, the desired confidence level (default is 0.95 for 95% confidence interval).\n",
    "    \n",
    "    Returns:\n",
    "    - tuple, representing the confidence interval (lower bound, upper bound).\n",
    "    \"\"\"\n",
    "    \n",
    "    # Calculate the Z-value based on the desired confidence level\n",
    "    if confidence_level == 0.95:\n",
    "        z_value = 1.96  # for 95% confidence level\n",
    "    else:\n",
    "        # You can expand this to handle other confidence levels if needed\n",
    "        raise ValueError(\"Unsupported confidence level. Currently only 95% confidence level is supported.\")\n",
    "    \n",
    "    # Calculate the margin of error\n",
    "    margin_error = z_value * (sample_std_dev / math.sqrt(sample_size))\n",
    "    \n",
    "    # Calculate the confidence interval\n",
    "    lower_bound = sample_mean - margin_error\n",
    "    upper_bound = sample_mean + margin_error\n",
    "    \n",
    "    return lower_bound, upper_bound\n",
    "\n",
    "# Example usage:\n",
    "sample_mean = 100  # sample mean\n",
    "sample_std_dev = 15  # sample standard deviation\n",
    "sample_size = 50  # sample size\n",
    "confidence_level = 0.95  # 95% confidence level\n",
    "\n",
    "lower_bound, upper_bound = estimate_population_mean(sample_mean, sample_std_dev, sample_size, confidence_level)\n",
    "print(f\"Estimated population mean lies between {lower_bound} and {upper_bound} with a {confidence_level * 100}% confidence level.\")\n"
   ]
  },
  {
   "cell_type": "markdown",
   "id": "c5cc83a5",
   "metadata": {},
   "source": [
    "Q3: What is Hypothesis testing? Why is it used? State the importance of Hypothesis testing."
   ]
  },
  {
   "cell_type": "markdown",
   "id": "929ba7ab",
   "metadata": {},
   "source": [
    "Ans:\n",
    "    \n",
    "    Hypothesis Testing:\n",
    "    Hypothesis testing is a statistical method used to make inferences or decisions about population parameters based on\n",
    "    sample data. It involves setting up a hypothesis (a statement or claim) about a population parameter, collecting sample\n",
    "    data, and using statistical techniques to evaluate the evidence against the hypothesis.\n",
    "\n",
    "    The typical process involves:\n",
    "\n",
    "    Formulating the Null Hypothesis (): This hypothesis represents a default position or a statement of no effect or \n",
    "        no difference. It often includes the assumption that there is no relationship or no difference between groups or\n",
    "        variables.\n",
    "\n",
    "    Formulating the Alternative Hypothesis (): This hypothesis represents what we want to test or prove. It can be \n",
    "        directional (one-tailed) or non-directional (two-tailed), depending on the research question or objective.\n",
    "\n",
    "    Choosing a Significance Level (α): This level determines the threshold for rejecting the null hypothesis. Commonly \n",
    "        used significance levels include 0.05, 0.01, and 0.10.\n",
    "\n",
    "    Collecting Data and Performing the Test: Using appropriate statistical tests (e.g., t-test, chi-square test, ANOVA), \n",
    "        analyze the sample data to determine whether there is enough evidence to reject the null hypothesis in favor of\n",
    "        the alternative hypothesis.\n",
    "\n",
    "    Making a Decision: Based on the test results and the significance level, make a decision to either reject or fail to \n",
    "        reject the null hypothesis.\n",
    "\n",
    "    Importance of Hypothesis Testing:\n",
    "    Informed Decision Making: Hypothesis testing provides a structured framework for making decisions based on data. \n",
    "        It helps researchers and analysts determine whether observed effects or differences in data are statistically \n",
    "        significant or merely due to random chance.\n",
    "\n",
    "    Validation of Claims: Hypothesis testing allows researchers to test specific claims or theories about population \n",
    "        parameters. By setting up hypotheses and conducting tests, researchers can validate or refute claims based on \n",
    "        empirical evidence.\n",
    "\n",
    "    Generalizability: Through hypothesis testing, researchers can generalize findings from a sample to a broader \n",
    "        population. By testing hypotheses, researchers can make inferences about population parameters with a known level \n",
    "        of confidence.\n",
    "\n",
    "    Scientific Research: In scientific research, hypothesis testing is fundamental for establishing causal relationships,\n",
    "        exploring theories, and advancing knowledge. It provides a rigorous method for testing hypotheses, interpreting \n",
    "        results, and drawing conclusions based on empirical evidence.\n",
    "\n",
    "    Policy and Decision Making: Beyond scientific research, hypothesis testing is valuable in various fields such as \n",
    "        business, economics, medicine, and social sciences. It informs policy decisions, strategic planning, resource\n",
    "        allocation, and other critical decisions based on evidence-based findings.\n",
    "\n"
   ]
  },
  {
   "cell_type": "markdown",
   "id": "4e9fad6b",
   "metadata": {},
   "source": [
    "Q4. Create a hypothesis that states whether the average weight of male college students is greater than\n",
    "the average weight of female college students."
   ]
  },
  {
   "cell_type": "markdown",
   "id": "4f27eb01",
   "metadata": {},
   "source": [
    "Ans:\n",
    "    \n",
    "    To formulate a hypothesis regarding the average weight of male college students compared to female college students,\n",
    "    you can use the following null and alternative hypotheses:\n",
    "\n",
    "    Null Hypothesis (H0 ):\n",
    "    The average weight of male college students is equal to or less than the average weight of female college students.\n",
    "    H0:μ male≤μ female\n",
    "    \n",
    "    Alternative Hypothesis (Ha):The average weight of male college students is greater than the average weight of \n",
    "        female college students.\n",
    "    Ha:μ male>μ female\n",
    "\n",
    "\n",
    "    Here:μ male represents the population mean weight of male college students.\n",
    "    μ female represents the population mean weight of female college students.\n",
    "    By setting up these hypotheses, you can conduct a one-tailed hypothesis test to determine whether there is sufficient\n",
    "    evidence to conclude that the average weight of male college students is greater than that of female college students\n",
    "    based on sample data.\n",
    "\n",
    "\n",
    "\n",
    "\n",
    "\n",
    "\n"
   ]
  },
  {
   "cell_type": "raw",
   "id": "72827fcf",
   "metadata": {},
   "source": [
    "Q5. Write a Python script to conduct a hypothesis test on the difference between two population means,\n",
    "given a sample from each population."
   ]
  },
  {
   "cell_type": "code",
   "execution_count": 2,
   "id": "9a81d7de",
   "metadata": {},
   "outputs": [
    {
     "name": "stdout",
     "output_type": "stream",
     "text": [
      "T-statistic: 1.8314810130643762\n",
      "P-value: 0.07217190746648765\n",
      "Fail to reject the null hypothesis. There is no significant difference between the population means.\n"
     ]
    }
   ],
   "source": [
    "import numpy as np\n",
    "from scipy.stats import ttest_ind\n",
    "\n",
    "def two_sample_t_test(sample1, sample2, alpha=0.05):\n",
    "    \"\"\"\n",
    "    Conduct a two-sample t-test to compare the means of two independent samples.\n",
    "    \n",
    "    Parameters:\n",
    "    - sample1: array-like, the first sample data.\n",
    "    - sample2: array-like, the second sample data.\n",
    "    - alpha: float, significance level (default is 0.05).\n",
    "    \n",
    "    Returns:\n",
    "    - t_statistic: float, calculated t-statistic.\n",
    "    - p_value: float, p-value from the t-test.\n",
    "    - result: string, conclusion of the hypothesis test.\n",
    "    \"\"\"\n",
    "    \n",
    "    # Calculate t-statistic and p-value using scipy's ttest_ind function\n",
    "    t_statistic, p_value = ttest_ind(sample1, sample2, equal_var=False)  # Assuming unequal variances\n",
    "    \n",
    "    # Determine the conclusion based on the p-value and significance level\n",
    "    if p_value < alpha:\n",
    "        result = f\"Reject the null hypothesis. There is a significant difference between the population means.\"\n",
    "    else:\n",
    "        result = f\"Fail to reject the null hypothesis. There is no significant difference between the population means.\"\n",
    "    \n",
    "    return t_statistic, p_value, result\n",
    "\n",
    "# Generate two sample datasets (for demonstration purposes)\n",
    "np.random.seed(42)  # Setting random seed for reproducibility\n",
    "sample1 = np.random.normal(loc=50, scale=10, size=30)  # Sample from population 1 (mean = 50, std = 10)\n",
    "sample2 = np.random.normal(loc=45, scale=10, size=30)  # Sample from population 2 (mean = 45, std = 10)\n",
    "\n",
    "# Perform two-sample t-test\n",
    "t_statistic, p_value, result = two_sample_t_test(sample1, sample2)\n",
    "\n",
    "# Print results\n",
    "print(f\"T-statistic: {t_statistic}\")\n",
    "print(f\"P-value: {p_value}\")\n",
    "print(result)\n"
   ]
  },
  {
   "cell_type": "markdown",
   "id": "3be28d96",
   "metadata": {},
   "source": [
    "Q6: What is a null and alternative hypothesis? Give some examples."
   ]
  },
  {
   "cell_type": "markdown",
   "id": "8e2f35a4",
   "metadata": {},
   "source": [
    "Ans:\n",
    "    \n",
    "    Null Hypothesis:\n",
    "    The null hypothesis (H0) represents a default or baseline assumption that there is no effect, no difference, or no \n",
    "    relationship between variables or populations. It serves as a starting point for hypothesis testing, assuming that any\n",
    "    observed effects or differences are due to random chance or sampling variability. The null hypothesis often reflects \n",
    "    the status quo, existing belief, or no change scenario.\n",
    "\n",
    "    Alternative Hypothesi:\n",
    "    The alternative hypothesis (H1) represents what researchers or analysts aim to prove or find evidence for. It contradicts\n",
    "    the null hypothesis, suggesting that there is an effect, difference, or relationship between variables or populations. \n",
    "    The alternative hypothesis captures the research question, hypothesis, or claim that researchers seek to support based \n",
    "    on empirical evidence.\n",
    "\n",
    "    Examples:\n",
    "    Example for a Mean Comparison:\n",
    "        \n",
    "    H0:The average test scores of students who attended the traditional teaching method are equal to or less than those\n",
    "        who attended the new teaching method.\n",
    "    H1:The average test scores of students who attended the new teaching method are greater than those who attended the \n",
    "        traditional teaching method.\n",
    "        \n",
    "    Example for a Proportion Comparison:\n",
    "\n",
    "    H0: The proportion of adults who prefer brand A over brand B is 0.5 (indicating no preference or equal preference).\n",
    "    H1: The proportion of adults who prefer brand A over brand B is greater than 0.5 (indicating a preference for brand A).\n",
    "        \n",
    "    Example for a Correlation:\n",
    "\n",
    "    H0: There is no correlation between the hours of study and the exam scores of students.\n",
    "    H1: There is a significant positive correlation between the hours of study and the exam scores of students.\n",
    "    Example for a Difference in Variance:\n",
    "\n",
    "    "
   ]
  },
  {
   "cell_type": "markdown",
   "id": "84d44734",
   "metadata": {},
   "source": [
    "Q7: Write down the steps involved in hypothesis testing."
   ]
  },
  {
   "cell_type": "markdown",
   "id": "a978d708",
   "metadata": {},
   "source": [
    "Ans:\n",
    "        \n",
    "        Step 1: State your null and alternate hypothesis.\n",
    "        Step 2: Collect data.\n",
    "        Step 3: Perform a statistical test.\n",
    "        Step 4: Decide whether to reject or fail to reject your null hypothesis.\n",
    "        Step 5: Present your findings.\n",
    "        Other interesting articles.\n",
    "        Frequently asked questions about hypothesis testing.\n"
   ]
  },
  {
   "cell_type": "markdown",
   "id": "05260376",
   "metadata": {},
   "source": [
    "Q8. Define p-value and explain its significance in hypothesis testing."
   ]
  },
  {
   "cell_type": "markdown",
   "id": "88f3d79e",
   "metadata": {},
   "source": [
    "Ans:\n",
    "    \n",
    "    P-value Definition:\n",
    "    The p-value is a measure that helps in hypothesis testing within statistical analysis. It quantifies the evidence against \n",
    "    a null hypothesis. In simpler terms, the p-value gives the probability of observing a test statistic as extreme as, or\n",
    "    more extreme than, the one actually observed, assuming that the null hypothesis is true.\n",
    "\n",
    "    Significance in Hypothesis Testing:\n",
    "    Basic Principle: In hypothesis testing, you start with a null hypothesis and an alternative hypothesis (or). The p-value \n",
    "        helps in determining whether to reject the null hypothesis in favor of the alternative hypothesis.\n",
    "\n",
    "    Decision Rule: A common practice is to set a significance level (often denoted as α), such as 0.05. If the p-value is \n",
    "        less than or equal to α, you reject the null hypothesis, suggesting that the observed data provides enough evidence\n",
    "        against it.\n",
    "\n",
    "    Interpretation:\n",
    "\n",
    "    Small p-value (p≤α): Indicates strong evidence against the null hypothesis. You would reject in favor of \n",
    "    Large p-value (p>α): Suggests that the observed data is consistent with the null hypothesis. You would fail to reject \n",
    "\n",
    "    Caution: A p-value does not measure the size of an effect or the importance of a result; it only indicates the strength\n",
    "        of the evidence against the null hypothesis. Also, a p-value above the significance level does not prove that the \n",
    "        null hypothesis is true; it simply means that the data does not provide enough evidence to reject it.\n",
    "\n",
    "    Context Matters: While the p-value provides a threshold for decision-making in hypothesis testing, it's crucial to \n",
    "        consider the broader context, including the study design, potential biases, and practical significance, when \n",
    "        interpreting results.\n",
    "\n"
   ]
  },
  {
   "cell_type": "markdown",
   "id": "6a02bf08",
   "metadata": {},
   "source": [
    "Q9. Generate a Student's t-distribution plot using Python's matplotlib library, with the degrees of freedom\n",
    "parameter set to 10."
   ]
  },
  {
   "cell_type": "code",
   "execution_count": 1,
   "id": "196125fe",
   "metadata": {},
   "outputs": [
    {
     "data": {
      "image/png": "[encoded data removed]",
      "text/plain": [
       "<Figure size 1000x600 with 1 Axes>"
      ]
     },
     "metadata": {},
     "output_type": "display_data"
    }
   ],
   "source": [
    "import numpy as np\n",
    "import matplotlib.pyplot as plt\n",
    "from scipy.stats import t\n",
    "\n",
    "# Define the range of x values (quantiles)\n",
    "x = np.linspace(-5, 5, 1000)\n",
    "\n",
    "# Degrees of freedom\n",
    "df = 10\n",
    "\n",
    "# Calculate the t-distribution for the given degrees of freedom\n",
    "pdf = t.pdf(x, df)\n",
    "\n",
    "# Plotting\n",
    "plt.figure(figsize=(10, 6))\n",
    "plt.plot(x, pdf, label=f'Student\\'s t-distribution (df={df})', color='blue')\n",
    "plt.title('Student\\'s t-distribution')\n",
    "plt.xlabel('x')\n",
    "plt.ylabel('Probability Density Function (PDF)')\n",
    "plt.grid(True)\n",
    "plt.legend()\n",
    "plt.show()\n"
   ]
  },
  {
   "cell_type": "markdown",
   "id": "138963ac",
   "metadata": {},
   "source": [
    "Q10. Write a Python program to calculate the two-sample t-test for independent samples, given two\n",
    "random samples of equal size and a null hypothesis that the population means are equal."
   ]
  },
  {
   "cell_type": "code",
   "execution_count": 2,
   "id": "92944b35",
   "metadata": {},
   "outputs": [
    {
     "name": "stdout",
     "output_type": "stream",
     "text": [
      "T-statistic: -1.273913202297599\n",
      "P-value: 0.20570710692864988\n",
      "Fail to reject the null hypothesis. There is no significant difference between the means of two samples.\n"
     ]
    }
   ],
   "source": [
    "import numpy as np\n",
    "from scipy.stats import ttest_ind\n",
    "\n",
    "def two_sample_t_test(sample1, sample2):\n",
    "    \"\"\"\n",
    "    Perform a two-sample t-test for independent samples.\n",
    "    \n",
    "    Parameters:\n",
    "    - sample1, sample2: numpy arrays or lists representing the two samples\n",
    "    \n",
    "    Returns:\n",
    "    - t_statistic: calculated t-statistic value\n",
    "    - p_value: calculated p-value\n",
    "    \"\"\"\n",
    "    \n",
    "    # Calculate t-statistic and p-value for two independent samples\n",
    "    t_statistic, p_value = ttest_ind(sample1, sample2)\n",
    "    \n",
    "    return t_statistic, p_value\n",
    "\n",
    "if __name__ == \"__main__\":\n",
    "    # Generate two random samples of equal size\n",
    "    sample_size = 50  # You can change the sample size as per your requirement\n",
    "    sample1 = np.random.normal(loc=0, scale=1, size=sample_size)\n",
    "    sample2 = np.random.normal(loc=0.5, scale=1, size=sample_size)  # Introducing a slight difference\n",
    "    \n",
    "    # Perform two-sample t-test\n",
    "    t_stat, p_val = two_sample_t_test(sample1, sample2)\n",
    "    \n",
    "    # Print the results\n",
    "    print(f\"T-statistic: {t_stat}\")\n",
    "    print(f\"P-value: {p_val}\")\n",
    "    \n",
    "    # Interpretation\n",
    "    alpha = 0.05  # Significance level\n",
    "    if p_val < alpha:\n",
    "        print(\"Reject the null hypothesis. There is a significant difference between the means of two samples.\")\n",
    "    else:\n",
    "        print(\"Fail to reject the null hypothesis. There is no significant difference between the means of two samples.\")\n"
   ]
  },
  {
   "cell_type": "markdown",
   "id": "43369089",
   "metadata": {},
   "source": [
    "Q11: What is Student’s t distribution? When to use the t-Distribution."
   ]
  },
  {
   "cell_type": "markdown",
   "id": "f82a8629",
   "metadata": {},
   "source": [
    "Ans:\n",
    "    \n",
    "    Student’s t-Distribution:\n",
    "    The Student's t-distribution is a probability distribution that is symmetric and bell-shaped, much like the normal\n",
    "    (Gaussian) distribution. However, it has heavier tails, making it suitable for smaller sample sizes where the\n",
    "    population standard deviation is unknown. The t-distribution was introduced by William Sealy Gosset under the \n",
    "    pseudonym \"Student\" in 1908.\n",
    "\n",
    "    Characteristics of the t-Distribution:\n",
    "    Shape: The t-distribution is symmetric and bell-shaped, but its tails are thicker than the normal distribution. As\n",
    "        the degrees of freedom increase, the t-distribution approaches the standard normal distribution.\n",
    "\n",
    "    Parameter: The shape of the t-distribution is determined by its degrees of freedom (df). As df increases, the\n",
    "        t-distribution becomes more similar to the standard normal distribution.\n",
    "\n",
    "    Variability: The variability or spread of the t-distribution depends on the sample size and degrees of freedom. For \n",
    "        smaller sample sizes, the t-distribution has more variability (larger spread) compared to the normal distribution.\n",
    "\n",
    "    When to Use the t-Distribution:\n",
    "    Unknown Population Standard Deviation: When you are dealing with a small sample size and the population standard\n",
    "        deviation is unknown, the t-distribution is used instead of the normal distribution.\n",
    "\n",
    "    Small Sample Sizes: For smaller sample sizes (typically when n<30), the t-distribution is more appropriate because\n",
    "        it accounts for the increased variability associated with estimating population parameters from limited sample data.\n",
    "\n",
    "    Estimation of Population Parameters: When estimating population parameters, such as the mean, from a sample, the \n",
    "        t-distribution provides a more accurate confidence interval or hypothesis test than using the normal distribution.\n",
    "\n",
    "    Assumptions: The t-distribution assumes that the data are approximately normally distributed, especially for small\n",
    "        sample sizes. If the sample size is large (n≥30), even if the population is not normally distributed, the central\n",
    "        limit theorem often ensures that the sample mean distribution is approximately normal, making the t-distribution \n",
    "        applicable."
   ]
  },
  {
   "cell_type": "markdown",
   "id": "cc6f2a44",
   "metadata": {},
   "source": [
    "Q12: What is t-statistic? State the formula for t-statistic."
   ]
  },
  {
   "cell_type": "markdown",
   "id": "70c28ccd",
   "metadata": {},
   "source": [
    "Ans:\n",
    "    \n",
    "    T-Statistic Definition:\n",
    "    The t-statistic is a measure used in hypothesis testing to determine if there is a significant difference between the \n",
    "    means of two groups. It indicates how many standard errors the sample mean is from the hypothesized population mean\n",
    "    under the null hypothesis.\n",
    "\n",
    "    Formula for t-Statistic:\n",
    "    The formula to calculate the t-statistic depends on the context in which it is used. However, the most common formula\n",
    "    for the t-statistic in the context of a one-sample t-test is:\n",
    "        \n",
    "        t= xˉ -μ/s/under root n\n",
    "\n"
   ]
  },
  {
   "cell_type": "markdown",
   "id": "f697ff53",
   "metadata": {},
   "source": [
    "Q13. A coffee shop owner wants to estimate the average daily revenue for their shop. They take a random\n",
    "sample of 50 days and find the sample mean revenue to be $500 with a standard deviation of $50.\n",
    "Estimate the population mean revenue with a 95% confidence interval."
   ]
  },
  {
   "cell_type": "markdown",
   "id": "25c3bfc8",
   "metadata": {},
   "source": [
    "Ans:\n",
    "    \n",
    "    To estimate the population mean revenue with a 95% confidence interval given the sample mean and standard deviation,\n",
    "    you can use the formula for the confidence interval for a population mean when the population standard deviation is\n",
    "    unknown.\n",
    "\n",
    "    The formula to calculate the confidence interval for the population mean (μ) is given by:\n",
    "        Confidence Interval= xˉ ±t α/2,df×(s/root of n)\n",
    "\n",
    "    Where:\n",
    "\n",
    "    ˉx= Sample mean (given as $500 in this case)\n",
    "     s = Sample standard deviation (given as $50 in this case)\n",
    "     n = Sample size (given as 50)\n",
    "     t α/2,df= t-value for a given confidence level (95% confidence level corresponds to 0.05 α=0.05 and df=n−1=50−1=49)\n",
    "\n",
    "    First, you'll need to find the t α/2,df value from the t-distribution table or using a statistical software package.\n",
    "    For a 95% confidence level with 49 degrees of freedom, the t-value is approximately 2.0096 (this value can be found \n",
    "    using a t-distribution table or statistical software).\n",
    "\n",
    "    Now, plug in the values:\n",
    "\n",
    "    Confidence Interval=500±2.0096×(50/root of 50)\n",
    "    Confidence Interval=500±14.2043\n",
    "\n",
    "    Thus, the 95% confidence interval for the population mean daily revenue is:\n",
    "\n",
    "    (500−14.2043,500+14.2043)\n",
    "     (485.7957,514.2043)\n",
    "\n",
    "     So, you can estimate with 95% confidence that the population mean daily revenue for the coffee shop lies between\n",
    "     $485.80 and $514.20.\n",
    "\n",
    "\n",
    "\n",
    "\n",
    "\n",
    "\n",
    "\n",
    "\n"
   ]
  },
  {
   "cell_type": "markdown",
   "id": "e5433de8",
   "metadata": {},
   "source": [
    "Q14. A researcher hypothesizes that a new drug will decrease blood pressure by 10 mmHg. They conduct a\n",
    "clinical trial with 100 patients and find that the sample mean decrease in blood pressure is 8 mmHg with a\n",
    "standard deviation of 3 mmHg. Test the hypothesis with a significance level of 0.05."
   ]
  },
  {
   "cell_type": "markdown",
   "id": "d6a039f6",
   "metadata": {},
   "source": [
    "Ans:\n",
    "    \n",
    "    Hypotheses:\n",
    "    First, set up the null and alternative hypotheses:\n",
    "\n",
    "    Null Hypothesis (H0): The new drug does not decrease blood pressure by 10 mmHg (μ=10).\n",
    "    Alternative Hypothesis (Ha): The new drug decreases blood pressure by 10 mmHg (μ<10).\n",
    "    Test Statistic:\n",
    "    The formula for the t-statistic for a one-sample t-test is:\n",
    "        t= xˉ -μ/s/under root n\n",
    "\n",
    "    xˉ = Sample mean decrease in blood pressure (given as 8 mmHg)\n",
    "    μ = Population mean decrease in blood pressure under the null hypothesis (10 mmHg)\n",
    "    s = Sample standard deviation (given as 3 mmHg)\n",
    "    n = Sample size (given as 100)\n",
    "    Substituting the given values into the formula:\n",
    "        t=−6.67\n",
    "\n",
    "    Critical Value and Decision:\n",
    "    With a significance level (α) of 0.05 and 99 degrees of freedom (n−1=100−1=99), you would find the critical t-value \n",
    "    from at-distribution table or statistical software for a one-tailed test. For a one-tailed test with α=0.05 and 99 \n",
    "    degrees of freedom, the critical t-value is approximately -1.6604.\n",
    "\n",
    "    Since the calculated t-statistic (-6.67) is less than the critical t-value (-1.6604), you reject the null hypothesis.\n",
    "\n"
   ]
  },
  {
   "cell_type": "markdown",
   "id": "078571fc",
   "metadata": {},
   "source": [
    "Q15. An electronics company produces a certain type of product with a mean weight of 5 pounds and a\n",
    "standard deviation of 0.5 pounds. A random sample of 25 products is taken, and the sample mean weight\n",
    "is found to be 4.8 pounds. Test the hypothesis that the true mean weight of the products is less than 5\n",
    "pounds with a significance level of 0.01."
   ]
  },
  {
   "cell_type": "markdown",
   "id": "cb0cd075",
   "metadata": {},
   "source": [
    "Ans:\n",
    "    \n",
    "    Hypotheses:\n",
    "    First, let's set up the null and alternative hypotheses:\n",
    "\n",
    "    Null Hypothesis (H0):μ=5 pounds (The true mean weight is 5 pounds).\n",
    "    Alternative Hypothesis (Ha):μ<5 pounds (The true mean weight is less than 5 pounds).\n",
    "\n",
    "        Test Statistic:\n",
    "    The formula for the t-statistic for a one-sample t-test is:\n",
    "         t= xˉ -μ/s/under root n\n",
    "\n",
    "    xˉ = Sample mean weight (given 4.8 pound)\n",
    "    μ = Population mean weught under the null hypothesis (5 pound)\n",
    "    s = Sample standard deviation (given as 0.5 pound)\n",
    "    n = Sample size (given as 25)\n",
    "    Substituting the given values into the formula:\n",
    "        t=−2\n",
    "\n",
    "    Critical Value and Decision:\n",
    "    With a significance level (α) of 0.01 and 24 degrees of freedomn−1=25−1=24), you need to find the critical t-value from \n",
    "    a t-distribution table or statistical software for a one-tailed test. For a one-tailed test with α=0.01 and 24 degrees\n",
    "    of freedom, the critical t-value is approximately -2.492.\n",
    "\n",
    "    Since the calculated t-statistic (-2) is greater than the critical t-value (-2.492), you reject the null hypothesis.\n"
   ]
  },
  {
   "cell_type": "markdown",
   "id": "e66c9f17",
   "metadata": {},
   "source": [
    "Q16. Two groups of students are given different study materials to prepare for a test. The first group (n1 =\n",
    "30) has a mean score of 80 with a standard deviation of 10, and the second group (n2 = 40) has a mean\n",
    "score of 75 with a standard deviation of 8. Test the hypothesis that the population means for the two\n",
    "groups are equal with a significance level of 0.01."
   ]
  },
  {
   "cell_type": "markdown",
   "id": "39a7af88",
   "metadata": {},
   "source": [
    "Ans:\n",
    "    \n",
    "    Hypotheses:\n",
    "    First, set up the null and alternative hypotheses:\n",
    "\n",
    "    Null Hypothesis (H0):μ1=μ2(The population means for the two groups are equal).\n",
    "    Alternative Hypothesi(Ha):μ1=μ2(The population means for the two groups are not equal).\n",
    "    Test Statistic:\n",
    "            The formula for the t-statistic for an independent two-sample t-test is:\n",
    "                t= mean of x1 - mean of x2/root of square of s1/n1 + square of s2/n2\n",
    "\n",
    "    mean of x1 and x2 are the sample means for the first and second groups, respectively.\n",
    "    s1 and s2 are the sample standard deviations for the first and second groups, respectively.\n",
    "    n1 and n2 are the sample sizes for the first and second groups, respectively.\n",
    "    Substituting the given values into the formula:\n",
    "       t=2.25\n",
    "\n",
    "    Critical Value and Decision:\n",
    "    With a significance level (α) of 0.01, and degrees of freedom calculated using the formula for the Welch's approximation \n",
    "    (since the sample sizes and variances are different), you would find the critical t-value from a t-distribution table \n",
    "    or statistical software. For a two-tailed test with  α=0.01 and the appropriate degrees of freedom, you would compare\n",
    "    the calculated t-value with the critical t-values to make a decision.\n",
    "\n"
   ]
  },
  {
   "cell_type": "markdown",
   "id": "7c4d0b5c",
   "metadata": {},
   "source": [
    "Q17. A marketing company wants to estimate the average number of ads watched by viewers during a TV\n",
    "program. They take a random sample of 50 viewers and find that the sample mean is 4 with a standard\n",
    "deviation of 1.5. Estimate the population mean with a 99% confidence interval."
   ]
  },
  {
   "cell_type": "markdown",
   "id": "69fb79ab",
   "metadata": {},
   "source": [
    "Ans:\n",
    "    \n",
    "    To estimate the population mean with a 99% confidence interval given the sample mean and standard deviation, you can \n",
    "    use the formula for the confidence interval for a population mean when the population standard deviation is unknown.\n",
    "\n",
    "    The formula to calculate the confidence interval for the population mean (μ) is:\n",
    "        Confidence Interval= xˉ±zα/2 ×(root of s/n)\n",
    "\n",
    "        Now, plug in the values:\n",
    "            Confidence Interval=4±0.5463\n",
    "\n",
    "            Thus, the 99% confidence interval for the population mean number of ads watched by viewers during a TV \n",
    "            program is:\n",
    "                (4−0.5463,4+0.5463)\n",
    "                 (3.4537,4.5463)\n",
    "\n",
    "            So, you can estimate with 99% confidence that the population mean number of ads watched by viewers during a \n",
    "            TV program lies between 3.4537 and 4.5463."
   ]
  },
  {
   "cell_type": "code",
   "execution_count": null,
   "id": "b21e361c",
   "metadata": {},
   "outputs": [],
   "source": []
  }
 ],
 "metadata": {
  "kernelspec": {
   "display_name": "Python 3 (ipykernel)",
   "language": "python",
   "name": "python3"
  },
  "language_info": {
   "codemirror_mode": {
    "name": "ipython",
    "version": 3
   },
   "file_extension": ".py",
   "mimetype": "text/x-python",
   "name": "python",
   "nbconvert_exporter": "python",
   "pygments_lexer": "ipython3",
   "version": "3.9.13"
  }
 },
 "nbformat": 4,
 "nbformat_minor": 5
}
